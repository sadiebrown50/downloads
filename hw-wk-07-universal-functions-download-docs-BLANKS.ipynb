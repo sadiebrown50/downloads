{
 "cells": [
  {
   "cell_type": "markdown",
   "id": "f6c4233d",
   "metadata": {},
   "source": [
    "# 1. Demo downloading files from websites \n",
    "\n",
    "There are ```txt``` and ```pdf``` files on:\n",
    "\n",
    "```https://sandeepmj.github.io/scrape-example-page/pages.html```\n",
    "\n",
    "Do the following:\n",
    "\n",
    "1. Download all ```pdf``` files.\n",
    "2. Download all files at one time."
   ]
  },
  {
   "cell_type": "code",
   "execution_count": 1,
   "id": "cf4f97e9",
   "metadata": {},
   "outputs": [],
   "source": [
    "## create new cells as necessary"
   ]
  },
  {
   "cell_type": "code",
   "execution_count": 2,
   "id": "656ed3ed",
   "metadata": {},
   "outputs": [],
   "source": [
    "url = \"https://sandeepmj.github.io/scrape-example-page/pages.html\""
   ]
  },
  {
   "cell_type": "code",
   "execution_count": 3,
   "id": "617aaf88",
   "metadata": {},
   "outputs": [],
   "source": [
    "from bs4 import BeautifulSoup  ## scrape info from web pages\n",
    "import requests ## get web pages from server\n",
    "import time # time is required. we will use its sleep function\n",
    "from random import randrange # generate random numbers"
   ]
  },
  {
   "cell_type": "code",
   "execution_count": 4,
   "id": "843e6eb1",
   "metadata": {},
   "outputs": [
    {
     "data": {
      "text/plain": [
       "200"
      ]
     },
     "execution_count": 4,
     "metadata": {},
     "output_type": "execute_result"
    }
   ],
   "source": [
    "response = requests.get(url)\n",
    "response.status_code"
   ]
  },
  {
   "cell_type": "code",
   "execution_count": 6,
   "id": "1474988a",
   "metadata": {},
   "outputs": [
    {
     "data": {
      "text/plain": [
       "<html lang=\"en\">\n",
       "<head>\n",
       "<!-- Makes the page responsive and scaled to be read easily -->\n",
       "<meta content=\"width=device-width, initial-scale=1\" name=\"viewport\"/>\n",
       "<!-- Links to stylesheet -->\n",
       "<link href=\"style.css\" rel=\"stylesheet\" type=\"text/css\"/>\n",
       "<!-- Remember to update page title -->\n",
       "<title>List of Documents</title>\n",
       "</head>\n",
       "<body>\n",
       "<!-- All content goes here -->\n",
       "<div class=\"container\">\n",
       "<h1>Documents to Download</h1>\n",
       "<li>Junk Li <a href=\"\">tag 1</a></li>\n",
       "<li>Junk Li <a href=\"\">tag 2</a></li>\n",
       "<ul class=\"txts downloadable\">\n",
       "<p class=\"pages\">Download this list of text documents</p>\n",
       "<li>Text Document <a href=\"files/text_doc_01.txt\">1</a> </li>\n",
       "<li>Text Document <a href=\"files/text_doc_02.txt\">2</a></li>\n",
       "<li>Text Document <a href=\"files/text_doc_03.txt\">3</a></li>\n",
       "<li>Text Document <a href=\"files/text_doc_04.txt\">4</a></li>\n",
       "<li>Text Document <a href=\"files/text_doc_05.txt\">5</a></li>\n",
       "<li>Text Document <a href=\"files/text_doc_06.txt\">6</a></li>\n",
       "<li>Text Document <a href=\"files/text_doc_07.txt\">7</a></li>\n",
       "<li>Text Document <a href=\"files/text_doc_08.txt\">8</a></li>\n",
       "<li>Text Document <a href=\"files/text_doc_09.txt\">9</a></li>\n",
       "<li>Text Document <a href=\"files/text_doc_10.txt\">10</a></li>\n",
       "</ul>\n",
       "<li>Junk Li <a href=\"\">tag 3</a></li>\n",
       "<li>Junk Li <a href=\"\">tag 4</a></li>\n",
       "<ul class=\"pdfs downloadable\">\n",
       "<p class=\"pages\">Download this list of PDFs</p>\n",
       "<li>PDF Document <a href=\"files/pdf_1.pdf\">1</a> </li>\n",
       "<li>PDF Document <a href=\"files/pdf_2.pdf\">2</a></li>\n",
       "<li>PDF Document <a href=\"files/pdf_3.pdf\">3</a></li>\n",
       "<li>PDF Document <a href=\"files/pdf_4.pdf\">4</a></li>\n",
       "<li>PDF Document <a href=\"files/pdf_5.pdf\">5</a></li>\n",
       "<li>PDF Document <a href=\"files/pdf_6.pdf\">6</a></li>\n",
       "<li>PDF Document <a href=\"files/pdf_7.pdf\">7</a></li>\n",
       "<li>PDF Document <a href=\"files/pdf_8.pdf\">8</a></li>\n",
       "<li>PDF Document <a href=\"files/pdf_9.pdf\">9</a></li>\n",
       "<li>PDF Document <a href=\"files/pdf_10.pdf\">10</a></li>\n",
       "</ul>\n",
       "<li>Junk Li <a href=\"\">tag 5</a></li>\n",
       "<li>Junk Li <a href=\"\">tag 6</a></li>\n",
       "</div>\n",
       "</body>\n",
       "</html>"
      ]
     },
     "execution_count": 6,
     "metadata": {},
     "output_type": "execute_result"
    }
   ],
   "source": [
    "## Now we soup\n",
    "soup = BeautifulSoup(response.text, \"html.parser\")\n",
    "soup"
   ]
  },
  {
   "cell_type": "code",
   "execution_count": 8,
   "id": "709396ba",
   "metadata": {},
   "outputs": [
    {
     "data": {
      "text/plain": [
       "<ul class=\"txts downloadable\">\n",
       "<p class=\"pages\">Download this list of text documents</p>\n",
       "<li>Text Document <a href=\"files/text_doc_01.txt\">1</a> </li>\n",
       "<li>Text Document <a href=\"files/text_doc_02.txt\">2</a></li>\n",
       "<li>Text Document <a href=\"files/text_doc_03.txt\">3</a></li>\n",
       "<li>Text Document <a href=\"files/text_doc_04.txt\">4</a></li>\n",
       "<li>Text Document <a href=\"files/text_doc_05.txt\">5</a></li>\n",
       "<li>Text Document <a href=\"files/text_doc_06.txt\">6</a></li>\n",
       "<li>Text Document <a href=\"files/text_doc_07.txt\">7</a></li>\n",
       "<li>Text Document <a href=\"files/text_doc_08.txt\">8</a></li>\n",
       "<li>Text Document <a href=\"files/text_doc_09.txt\">9</a></li>\n",
       "<li>Text Document <a href=\"files/text_doc_10.txt\">10</a></li>\n",
       "</ul>"
      ]
     },
     "execution_count": 8,
     "metadata": {},
     "output_type": "execute_result"
    }
   ],
   "source": [
    "## It looks like there are a bunch of things we can target.\n",
    "## I'm not confident that I can write one big scrape that will do everything and I don't have a ton of time \n",
    "## so we are going to target each type of file seperately. \n",
    "\n",
    "txt_group = soup.find(\"ul\", class_ = \"txts\")\n",
    "txt_group"
   ]
  },
  {
   "cell_type": "code",
   "execution_count": 9,
   "id": "b31efadf",
   "metadata": {},
   "outputs": [
    {
     "data": {
      "text/plain": [
       "[<a href=\"files/text_doc_01.txt\">1</a>,\n",
       " <a href=\"files/text_doc_02.txt\">2</a>,\n",
       " <a href=\"files/text_doc_03.txt\">3</a>,\n",
       " <a href=\"files/text_doc_04.txt\">4</a>,\n",
       " <a href=\"files/text_doc_05.txt\">5</a>,\n",
       " <a href=\"files/text_doc_06.txt\">6</a>,\n",
       " <a href=\"files/text_doc_07.txt\">7</a>,\n",
       " <a href=\"files/text_doc_08.txt\">8</a>,\n",
       " <a href=\"files/text_doc_09.txt\">9</a>,\n",
       " <a href=\"files/text_doc_10.txt\">10</a>]"
      ]
     },
     "execution_count": 9,
     "metadata": {},
     "output_type": "execute_result"
    }
   ],
   "source": [
    "## BOOM that worked. okay so lets get all the a tags. \n",
    "links_txt = txt_group.find_all(\"a\")\n",
    "links_txt\n"
   ]
  },
  {
   "cell_type": "code",
   "execution_count": 10,
   "id": "b963ee4d",
   "metadata": {},
   "outputs": [
    {
     "data": {
      "text/plain": [
       "['files/text_doc_01.txt',\n",
       " 'files/text_doc_02.txt',\n",
       " 'files/text_doc_03.txt',\n",
       " 'files/text_doc_04.txt',\n",
       " 'files/text_doc_05.txt',\n",
       " 'files/text_doc_06.txt',\n",
       " 'files/text_doc_07.txt',\n",
       " 'files/text_doc_08.txt',\n",
       " 'files/text_doc_09.txt',\n",
       " 'files/text_doc_10.txt']"
      ]
     },
     "execution_count": 10,
     "metadata": {},
     "output_type": "execute_result"
    }
   ],
   "source": [
    "links = []\n",
    "for tag in links_txt:\n",
    "    links.append(tag.get(\"href\"))\n",
    "links"
   ]
  },
  {
   "cell_type": "code",
   "execution_count": 14,
   "id": "05a6d045",
   "metadata": {},
   "outputs": [
    {
     "data": {
      "text/plain": [
       "['https://sandeepmj.github.io/scrape-example-page/files/text_doc_01.txt',\n",
       " 'https://sandeepmj.github.io/scrape-example-page/files/text_doc_02.txt',\n",
       " 'https://sandeepmj.github.io/scrape-example-page/files/text_doc_03.txt',\n",
       " 'https://sandeepmj.github.io/scrape-example-page/files/text_doc_04.txt',\n",
       " 'https://sandeepmj.github.io/scrape-example-page/files/text_doc_05.txt',\n",
       " 'https://sandeepmj.github.io/scrape-example-page/files/text_doc_06.txt',\n",
       " 'https://sandeepmj.github.io/scrape-example-page/files/text_doc_07.txt',\n",
       " 'https://sandeepmj.github.io/scrape-example-page/files/text_doc_08.txt',\n",
       " 'https://sandeepmj.github.io/scrape-example-page/files/text_doc_09.txt',\n",
       " 'https://sandeepmj.github.io/scrape-example-page/files/text_doc_10.txt']"
      ]
     },
     "execution_count": 14,
     "metadata": {},
     "output_type": "execute_result"
    }
   ],
   "source": [
    "## now lets make the urls whole\n",
    "baseURL = \"https://sandeepmj.github.io/scrape-example-page/\"\n",
    "full_txt_link = []\n",
    "for link in links:\n",
    "    full_txt_link.append(baseURL + link)\n",
    "\n",
    "full_txt_link"
   ]
  },
  {
   "cell_type": "code",
   "execution_count": 15,
   "id": "b7fd748b",
   "metadata": {},
   "outputs": [],
   "source": [
    "import wget"
   ]
  },
  {
   "cell_type": "code",
   "execution_count": 16,
   "id": "b706736c",
   "metadata": {},
   "outputs": [
    {
     "name": "stdout",
     "output_type": "stream",
     "text": [
      "downloading link 1 of 10\n",
      "100% [................................................................] 76 / 76snoozing for 6 seconds next link\n",
      "downloading link 2 of 10\n",
      "100% [................................................................] 66 / 66snoozing for 6 seconds next link\n",
      "downloading link 3 of 10\n",
      "100% [................................................................] 70 / 70snoozing for 6 seconds next link\n",
      "downloading link 4 of 10\n",
      "100% [................................................................] 63 / 63snoozing for 6 seconds next link\n",
      "downloading link 5 of 10\n",
      "100% [................................................................] 66 / 66snoozing for 6 seconds next link\n",
      "downloading link 6 of 10\n",
      "100% [................................................................] 66 / 66snoozing for 5 seconds next link\n",
      "downloading link 7 of 10\n",
      "100% [................................................................] 69 / 69snoozing for 5 seconds next link\n",
      "downloading link 8 of 10\n",
      "100% [................................................................] 65 / 65snoozing for 6 seconds next link\n",
      "downloading link 9 of 10\n",
      "100% [................................................................] 66 / 66snoozing for 6 seconds next link\n",
      "downloading link 10 of 10\n",
      "100% [................................................................] 60 / 60snoozing for 6 seconds next link\n"
     ]
    }
   ],
   "source": [
    "## so now we can download all the links using a forloop\n",
    "links_total = len(full_txt_link)\n",
    "link_count = 1\n",
    "for link in full_txt_link:\n",
    "    print(f\"downloading link {link_count} of {links_total}\")\n",
    "    link_count += 1\n",
    "    wget.download(link)\n",
    "    snoozer = randrange (5, 7)\n",
    "    print(f\"snoozing for {snoozer} seconds next link\")\n",
    "    time.sleep(snoozer)"
   ]
  },
  {
   "cell_type": "code",
   "execution_count": null,
   "id": "7b7a5ce1",
   "metadata": {},
   "outputs": [],
   "source": [
    "## okay lets see if we can speed up the process for downloading all the files. "
   ]
  },
  {
   "cell_type": "code",
   "execution_count": 17,
   "id": "3dd5c866",
   "metadata": {
    "scrolled": true
   },
   "outputs": [
    {
     "data": {
      "text/plain": [
       "<html lang=\"en\">\n",
       "<head>\n",
       "<!-- Makes the page responsive and scaled to be read easily -->\n",
       "<meta content=\"width=device-width, initial-scale=1\" name=\"viewport\"/>\n",
       "<!-- Links to stylesheet -->\n",
       "<link href=\"style.css\" rel=\"stylesheet\" type=\"text/css\"/>\n",
       "<!-- Remember to update page title -->\n",
       "<title>List of Documents</title>\n",
       "</head>\n",
       "<body>\n",
       "<!-- All content goes here -->\n",
       "<div class=\"container\">\n",
       "<h1>Documents to Download</h1>\n",
       "<li>Junk Li <a href=\"\">tag 1</a></li>\n",
       "<li>Junk Li <a href=\"\">tag 2</a></li>\n",
       "<ul class=\"txts downloadable\">\n",
       "<p class=\"pages\">Download this list of text documents</p>\n",
       "<li>Text Document <a href=\"files/text_doc_01.txt\">1</a> </li>\n",
       "<li>Text Document <a href=\"files/text_doc_02.txt\">2</a></li>\n",
       "<li>Text Document <a href=\"files/text_doc_03.txt\">3</a></li>\n",
       "<li>Text Document <a href=\"files/text_doc_04.txt\">4</a></li>\n",
       "<li>Text Document <a href=\"files/text_doc_05.txt\">5</a></li>\n",
       "<li>Text Document <a href=\"files/text_doc_06.txt\">6</a></li>\n",
       "<li>Text Document <a href=\"files/text_doc_07.txt\">7</a></li>\n",
       "<li>Text Document <a href=\"files/text_doc_08.txt\">8</a></li>\n",
       "<li>Text Document <a href=\"files/text_doc_09.txt\">9</a></li>\n",
       "<li>Text Document <a href=\"files/text_doc_10.txt\">10</a></li>\n",
       "</ul>\n",
       "<li>Junk Li <a href=\"\">tag 3</a></li>\n",
       "<li>Junk Li <a href=\"\">tag 4</a></li>\n",
       "<ul class=\"pdfs downloadable\">\n",
       "<p class=\"pages\">Download this list of PDFs</p>\n",
       "<li>PDF Document <a href=\"files/pdf_1.pdf\">1</a> </li>\n",
       "<li>PDF Document <a href=\"files/pdf_2.pdf\">2</a></li>\n",
       "<li>PDF Document <a href=\"files/pdf_3.pdf\">3</a></li>\n",
       "<li>PDF Document <a href=\"files/pdf_4.pdf\">4</a></li>\n",
       "<li>PDF Document <a href=\"files/pdf_5.pdf\">5</a></li>\n",
       "<li>PDF Document <a href=\"files/pdf_6.pdf\">6</a></li>\n",
       "<li>PDF Document <a href=\"files/pdf_7.pdf\">7</a></li>\n",
       "<li>PDF Document <a href=\"files/pdf_8.pdf\">8</a></li>\n",
       "<li>PDF Document <a href=\"files/pdf_9.pdf\">9</a></li>\n",
       "<li>PDF Document <a href=\"files/pdf_10.pdf\">10</a></li>\n",
       "</ul>\n",
       "<li>Junk Li <a href=\"\">tag 5</a></li>\n",
       "<li>Junk Li <a href=\"\">tag 6</a></li>\n",
       "</div>\n",
       "</body>\n",
       "</html>"
      ]
     },
     "execution_count": 17,
     "metadata": {},
     "output_type": "execute_result"
    }
   ],
   "source": [
    "##I forgot what the soup look like \n",
    "soup"
   ]
  },
  {
   "cell_type": "code",
   "execution_count": 38,
   "id": "c74c45af",
   "metadata": {},
   "outputs": [],
   "source": [
    "## It looks like we can target \"downloadable\" and \"ul\"\n",
    "## It also look like yu threw in some broken links just to be cheeky.\n",
    "## don't worry, we got this... I think\n",
    "docs_holder = soup.find_all ('ul', class_ = \"downloadable\")"
   ]
  },
  {
   "cell_type": "code",
   "execution_count": 39,
   "id": "1a68b277",
   "metadata": {},
   "outputs": [
    {
     "data": {
      "text/plain": [
       "[<ul class=\"txts downloadable\">\n",
       " <p class=\"pages\">Download this list of text documents</p>\n",
       " <li>Text Document <a href=\"files/text_doc_01.txt\">1</a> </li>\n",
       " <li>Text Document <a href=\"files/text_doc_02.txt\">2</a></li>\n",
       " <li>Text Document <a href=\"files/text_doc_03.txt\">3</a></li>\n",
       " <li>Text Document <a href=\"files/text_doc_04.txt\">4</a></li>\n",
       " <li>Text Document <a href=\"files/text_doc_05.txt\">5</a></li>\n",
       " <li>Text Document <a href=\"files/text_doc_06.txt\">6</a></li>\n",
       " <li>Text Document <a href=\"files/text_doc_07.txt\">7</a></li>\n",
       " <li>Text Document <a href=\"files/text_doc_08.txt\">8</a></li>\n",
       " <li>Text Document <a href=\"files/text_doc_09.txt\">9</a></li>\n",
       " <li>Text Document <a href=\"files/text_doc_10.txt\">10</a></li>\n",
       " </ul>,\n",
       " <ul class=\"pdfs downloadable\">\n",
       " <p class=\"pages\">Download this list of PDFs</p>\n",
       " <li>PDF Document <a href=\"files/pdf_1.pdf\">1</a> </li>\n",
       " <li>PDF Document <a href=\"files/pdf_2.pdf\">2</a></li>\n",
       " <li>PDF Document <a href=\"files/pdf_3.pdf\">3</a></li>\n",
       " <li>PDF Document <a href=\"files/pdf_4.pdf\">4</a></li>\n",
       " <li>PDF Document <a href=\"files/pdf_5.pdf\">5</a></li>\n",
       " <li>PDF Document <a href=\"files/pdf_6.pdf\">6</a></li>\n",
       " <li>PDF Document <a href=\"files/pdf_7.pdf\">7</a></li>\n",
       " <li>PDF Document <a href=\"files/pdf_8.pdf\">8</a></li>\n",
       " <li>PDF Document <a href=\"files/pdf_9.pdf\">9</a></li>\n",
       " <li>PDF Document <a href=\"files/pdf_10.pdf\">10</a></li>\n",
       " </ul>]"
      ]
     },
     "execution_count": 39,
     "metadata": {},
     "output_type": "execute_result"
    }
   ],
   "source": [
    "##Trying a more direct approach\n",
    "## This has some broken links but its a single flat list...\n",
    "##docs_holder = soup.find_all(\"a\")\n",
    "docs_holder"
   ]
  },
  {
   "cell_type": "code",
   "execution_count": 40,
   "id": "a7e5ed77",
   "metadata": {},
   "outputs": [
    {
     "data": {
      "text/plain": [
       "[[<a href=\"files/text_doc_01.txt\">1</a>,\n",
       "  <a href=\"files/text_doc_02.txt\">2</a>,\n",
       "  <a href=\"files/text_doc_03.txt\">3</a>,\n",
       "  <a href=\"files/text_doc_04.txt\">4</a>,\n",
       "  <a href=\"files/text_doc_05.txt\">5</a>,\n",
       "  <a href=\"files/text_doc_06.txt\">6</a>,\n",
       "  <a href=\"files/text_doc_07.txt\">7</a>,\n",
       "  <a href=\"files/text_doc_08.txt\">8</a>,\n",
       "  <a href=\"files/text_doc_09.txt\">9</a>,\n",
       "  <a href=\"files/text_doc_10.txt\">10</a>],\n",
       " [<a href=\"files/pdf_1.pdf\">1</a>,\n",
       "  <a href=\"files/pdf_2.pdf\">2</a>,\n",
       "  <a href=\"files/pdf_3.pdf\">3</a>,\n",
       "  <a href=\"files/pdf_4.pdf\">4</a>,\n",
       "  <a href=\"files/pdf_5.pdf\">5</a>,\n",
       "  <a href=\"files/pdf_6.pdf\">6</a>,\n",
       "  <a href=\"files/pdf_7.pdf\">7</a>,\n",
       "  <a href=\"files/pdf_8.pdf\">8</a>,\n",
       "  <a href=\"files/pdf_9.pdf\">9</a>,\n",
       "  <a href=\"files/pdf_10.pdf\">10</a>]]"
      ]
     },
     "execution_count": 40,
     "metadata": {},
     "output_type": "execute_result"
    }
   ],
   "source": [
    "big_list = [item.find_all(\"a\") for item in docs_holder]\n",
    "big_list"
   ]
  },
  {
   "cell_type": "code",
   "execution_count": 42,
   "id": "41f140fc",
   "metadata": {
    "scrolled": true
   },
   "outputs": [
    {
     "data": {
      "text/plain": [
       "['https://sandeepmj.github.io/scrape-example-page/files/text_doc_01.txt',\n",
       " 'https://sandeepmj.github.io/scrape-example-page/files/text_doc_02.txt',\n",
       " 'https://sandeepmj.github.io/scrape-example-page/files/text_doc_03.txt',\n",
       " 'https://sandeepmj.github.io/scrape-example-page/files/text_doc_04.txt',\n",
       " 'https://sandeepmj.github.io/scrape-example-page/files/text_doc_05.txt',\n",
       " 'https://sandeepmj.github.io/scrape-example-page/files/text_doc_06.txt',\n",
       " 'https://sandeepmj.github.io/scrape-example-page/files/text_doc_07.txt',\n",
       " 'https://sandeepmj.github.io/scrape-example-page/files/text_doc_08.txt',\n",
       " 'https://sandeepmj.github.io/scrape-example-page/files/text_doc_09.txt',\n",
       " 'https://sandeepmj.github.io/scrape-example-page/files/text_doc_10.txt',\n",
       " 'https://sandeepmj.github.io/scrape-example-page/files/pdf_1.pdf',\n",
       " 'https://sandeepmj.github.io/scrape-example-page/files/pdf_2.pdf',\n",
       " 'https://sandeepmj.github.io/scrape-example-page/files/pdf_3.pdf',\n",
       " 'https://sandeepmj.github.io/scrape-example-page/files/pdf_4.pdf',\n",
       " 'https://sandeepmj.github.io/scrape-example-page/files/pdf_5.pdf',\n",
       " 'https://sandeepmj.github.io/scrape-example-page/files/pdf_6.pdf',\n",
       " 'https://sandeepmj.github.io/scrape-example-page/files/pdf_7.pdf',\n",
       " 'https://sandeepmj.github.io/scrape-example-page/files/pdf_8.pdf',\n",
       " 'https://sandeepmj.github.io/scrape-example-page/files/pdf_9.pdf',\n",
       " 'https://sandeepmj.github.io/scrape-example-page/files/pdf_10.pdf']"
      ]
     },
     "execution_count": 42,
     "metadata": {},
     "output_type": "execute_result"
    }
   ],
   "source": [
    "##okay so this is a list, which means we need to flatten it. \n",
    "flat_docs = []\n",
    "for sub_list in big_list:\n",
    "    for item in sub_list:\n",
    "        flat_docs.append(baseURL + item.get(\"href\"))\n",
    "        \n",
    "flat_docs"
   ]
  },
  {
   "cell_type": "code",
   "execution_count": 43,
   "id": "2e43a73a",
   "metadata": {},
   "outputs": [
    {
     "name": "stdout",
     "output_type": "stream",
     "text": [
      "downloading link 1 of 20\n",
      "100% [................................................................] 76 / 76snoozing for 6 seconds next link\n",
      "downloading link 2 of 20\n",
      "100% [................................................................] 66 / 66snoozing for 5 seconds next link\n",
      "downloading link 3 of 20\n",
      "100% [................................................................] 70 / 70snoozing for 5 seconds next link\n",
      "downloading link 4 of 20\n",
      "100% [................................................................] 63 / 63snoozing for 6 seconds next link\n",
      "downloading link 5 of 20\n",
      "100% [................................................................] 66 / 66snoozing for 6 seconds next link\n",
      "downloading link 6 of 20\n",
      "100% [................................................................] 66 / 66snoozing for 6 seconds next link\n",
      "downloading link 7 of 20\n",
      "100% [................................................................] 69 / 69snoozing for 6 seconds next link\n",
      "downloading link 8 of 20\n",
      "100% [................................................................] 65 / 65snoozing for 6 seconds next link\n",
      "downloading link 9 of 20\n",
      "100% [................................................................] 66 / 66snoozing for 6 seconds next link\n",
      "downloading link 10 of 20\n",
      "100% [................................................................] 60 / 60snoozing for 6 seconds next link\n",
      "downloading link 11 of 20\n",
      "100% [..........................................................] 12812 / 12812snoozing for 5 seconds next link\n",
      "downloading link 12 of 20\n",
      "100% [..........................................................] 12897 / 12897snoozing for 5 seconds next link\n",
      "downloading link 13 of 20\n",
      "100% [..........................................................] 12908 / 12908snoozing for 6 seconds next link\n",
      "downloading link 14 of 20\n",
      "100% [..........................................................] 12843 / 12843snoozing for 5 seconds next link\n",
      "downloading link 15 of 20\n",
      "100% [..........................................................] 12881 / 12881snoozing for 6 seconds next link\n",
      "downloading link 16 of 20\n",
      "100% [..........................................................] 12906 / 12906snoozing for 5 seconds next link\n",
      "downloading link 17 of 20\n",
      "100% [..........................................................] 12816 / 12816snoozing for 5 seconds next link\n",
      "downloading link 18 of 20\n",
      "100% [..........................................................] 12921 / 12921snoozing for 6 seconds next link\n",
      "downloading link 19 of 20\n",
      "100% [..........................................................] 12901 / 12901snoozing for 5 seconds next link\n",
      "downloading link 20 of 20\n",
      "100% [..........................................................] 13049 / 13049snoozing for 5 seconds next link\n"
     ]
    }
   ],
   "source": [
    "links_total = len(flat_docs)\n",
    "link_count = 1\n",
    "for link in flat_docs:\n",
    "    print(f\"downloading link {link_count} of {links_total}\")\n",
    "    link_count += 1\n",
    "    wget.download(link)\n",
    "    snoozer = randrange (5, 7)\n",
    "    print(f\"snoozing for {snoozer} seconds next link\")\n",
    "    time.sleep(snoozer)"
   ]
  },
  {
   "cell_type": "code",
   "execution_count": null,
   "id": "fb824c8f",
   "metadata": {},
   "outputs": [],
   "source": []
  },
  {
   "cell_type": "code",
   "execution_count": 35,
   "id": "a7f0406d",
   "metadata": {},
   "outputs": [],
   "source": []
  },
  {
   "cell_type": "code",
   "execution_count": 36,
   "id": "e631e0df",
   "metadata": {},
   "outputs": [],
   "source": []
  },
  {
   "cell_type": "code",
   "execution_count": null,
   "id": "944071b6",
   "metadata": {},
   "outputs": [],
   "source": []
  },
  {
   "cell_type": "code",
   "execution_count": null,
   "id": "e26f0994",
   "metadata": {},
   "outputs": [],
   "source": []
  },
  {
   "cell_type": "code",
   "execution_count": null,
   "id": "02cb60e6",
   "metadata": {},
   "outputs": [],
   "source": []
  },
  {
   "cell_type": "markdown",
   "id": "c5de875e",
   "metadata": {},
   "source": [
    "# 2. Universal conversion function\n",
    "Rewrite your function from last week so it can do both:\n",
    "\n",
    "- take individual string values like ```$12.24267```, ```10,201``` and ```$12,501``` and convert them into floating point numbers like 12.24, 10201.0 and 12501.0\n",
    "\n",
    "- take string values in lists and convert them to floating point numbers. (reminder: you use a zip function).\n",
    "\n",
    "Test it on the numbers above and in this list:"
   ]
  },
  {
   "cell_type": "code",
   "execution_count": 48,
   "id": "e6abb2f6",
   "metadata": {},
   "outputs": [],
   "source": [
    "## list of string numbers\n",
    "string_numbers = [\"$12.24267\", \"10,201\", \"$12,501\", \"42,901\", \"$902,091\"]"
   ]
  },
  {
   "cell_type": "code",
   "execution_count": 50,
   "id": "c46ef8a2",
   "metadata": {},
   "outputs": [],
   "source": [
    "def convert (string):\n",
    "    string = string.replace(\"$\", \"\").replace(\",\", \"\") \n",
    "    return round(float(string), 2)"
   ]
  },
  {
   "cell_type": "code",
   "execution_count": 51,
   "id": "9c7fc729",
   "metadata": {},
   "outputs": [],
   "source": [
    "converted_string = list(map(convert, string_numbers))"
   ]
  },
  {
   "cell_type": "code",
   "execution_count": 52,
   "id": "11edd88a",
   "metadata": {},
   "outputs": [
    {
     "data": {
      "text/plain": [
       "[12.24, 10201.0, 12501.0, 42901.0, 902091.0]"
      ]
     },
     "execution_count": 52,
     "metadata": {},
     "output_type": "execute_result"
    }
   ],
   "source": [
    "converted_string"
   ]
  },
  {
   "cell_type": "code",
   "execution_count": null,
   "id": "57457fcd",
   "metadata": {},
   "outputs": [],
   "source": [
    "## I honestly have no idea where you're going with \"use a zip function\". \n",
    "## Like, I feel like I was paying attention and at this point I'm just drawing a blank"
   ]
  }
 ],
 "metadata": {
  "kernelspec": {
   "display_name": "Python 3 (ipykernel)",
   "language": "python",
   "name": "python3"
  },
  "language_info": {
   "codemirror_mode": {
    "name": "ipython",
    "version": 3
   },
   "file_extension": ".py",
   "mimetype": "text/x-python",
   "name": "python",
   "nbconvert_exporter": "python",
   "pygments_lexer": "ipython3",
   "version": "3.9.7"
  }
 },
 "nbformat": 4,
 "nbformat_minor": 5
}
